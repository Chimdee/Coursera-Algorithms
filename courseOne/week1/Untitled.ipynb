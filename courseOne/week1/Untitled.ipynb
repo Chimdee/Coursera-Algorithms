{
 "cells": [
  {
   "cell_type": "code",
   "execution_count": 6,
   "metadata": {},
   "outputs": [],
   "source": [
    "import numpy as np"
   ]
  },
  {
   "cell_type": "code",
   "execution_count": 19,
   "metadata": {},
   "outputs": [],
   "source": [
    "x = 3141592653589793238462643383279502884197169399375105820974944592\n",
    "y = 2718281828459045235360287471352662497757247093699959574966967627"
   ]
  },
  {
   "cell_type": "code",
   "execution_count": 20,
   "metadata": {},
   "outputs": [
    {
     "data": {
      "text/plain": [
       "8539734222673567065463550869546574495034888535765114961879601127067743044893204848617875072216249073013374895871952806582723184"
      ]
     },
     "execution_count": 20,
     "metadata": {},
     "output_type": "execute_result"
    }
   ],
   "source": [
    "x*y"
   ]
  },
  {
   "cell_type": "code",
   "execution_count": 92,
   "metadata": {},
   "outputs": [
    {
     "data": {
      "text/plain": [
       "8539734222673567065463550869546574495034888535765114961879601127067743044893204848617875072216249073013374895871952806582723184"
      ]
     },
     "execution_count": 92,
     "metadata": {},
     "output_type": "execute_result"
    }
   ],
   "source": [
    "def karatsuba_product(x, y):\n",
    "    \n",
    "    if len(str(x)) == 1 or len(str(x)) == 1:\n",
    "        return x*y\n",
    "    else:\n",
    "        length = max(len(str(x)), len(str(x)))\n",
    "        idx = length//2\n",
    "            \n",
    "        a = x // 10**idx\n",
    "        b = x %  10**idx\n",
    "        c = y // 10**idx\n",
    "        d = y %  10**idx\n",
    "        \n",
    "        ac= karatsuba_product(a, c)\n",
    "        bd= karatsuba_product(b ,d)\n",
    "        ab_cd = karatsuba_product(a+b, c+d) \n",
    "        ad_bc = ab_cd - ac - bd\n",
    "        \n",
    "        out = 10**(2*idx)*ac + 10**(idx)*ad_bc + bd\n",
    "    return out\n",
    "\n",
    "karatsuba_product(x,y)"
   ]
  },
  {
   "cell_type": "code",
   "execution_count": 91,
   "metadata": {},
   "outputs": [
    {
     "data": {
      "text/plain": [
       "8539734222673567065463550869546574495034888535765114961879601127067743044893204848617875072216249073013374895871952806582723184"
      ]
     },
     "execution_count": 91,
     "metadata": {},
     "output_type": "execute_result"
    }
   ],
   "source": [
    "def karatsuba_multiply(x, y):\n",
    "    \"\"\"Function to multiply 2 numbers in a more efficient manner than the grade school algorithm\"\"\"\n",
    "    if len(str(x)) == 1 or len(str(y)) == 1:\n",
    "        return x * y\n",
    "    else:\n",
    "        n = max(len(str(x)), len(str(y)))\n",
    "        nby2 = n // 2\n",
    "        ten_pow_nby2 = 10**nby2\n",
    "        a = x // ten_pow_nby2\n",
    "        b = x % ten_pow_nby2\n",
    "        c = y // ten_pow_nby2\n",
    "        d = y % ten_pow_nby2\n",
    "\n",
    "        ac = karatsuba_multiply(a, c)\n",
    "        bd = karatsuba_multiply(b, d)\n",
    "        ad_plus_bc = karatsuba_multiply(a + b, c + d) - ac - bd\n",
    "\n",
    "        # this little trick, writing n as 2*nby2 takes care of both even and odd n\n",
    "        prod = ac * 10 ** (2 * nby2) + (ad_plus_bc * 10 ** nby2) + bd\n",
    "\n",
    "        return prod\n",
    "karatsuba_multiply(x, y)"
   ]
  },
  {
   "cell_type": "code",
   "execution_count": null,
   "metadata": {},
   "outputs": [],
   "source": []
  }
 ],
 "metadata": {
  "kernelspec": {
   "display_name": "Python 3.7.0 64-bit ('ml': conda)",
   "language": "python",
   "name": "python37064bitmlcondad8505213663846cb82896f587912ebc8"
  },
  "language_info": {
   "codemirror_mode": {
    "name": "ipython",
    "version": 3
   },
   "file_extension": ".py",
   "mimetype": "text/x-python",
   "name": "python",
   "nbconvert_exporter": "python",
   "pygments_lexer": "ipython3",
   "version": "3.7.0"
  },
  "toc": {
   "base_numbering": 1,
   "nav_menu": {},
   "number_sections": true,
   "sideBar": true,
   "skip_h1_title": false,
   "title_cell": "Table of Contents",
   "title_sidebar": "Contents",
   "toc_cell": false,
   "toc_position": {},
   "toc_section_display": true,
   "toc_window_display": false
  }
 },
 "nbformat": 4,
 "nbformat_minor": 4
}
